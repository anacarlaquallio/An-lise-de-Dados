{
 "cells": [
  {
   "cell_type": "code",
   "execution_count": 43,
   "id": "d269dc3b",
   "metadata": {},
   "outputs": [],
   "source": [
    "# Validacao cruzada"
   ]
  },
  {
   "cell_type": "code",
   "execution_count": 44,
   "id": "1a285d0a",
   "metadata": {},
   "outputs": [],
   "source": [
    "import pandas as pd\n",
    "import numpy as np"
   ]
  },
  {
   "cell_type": "code",
   "execution_count": 45,
   "id": "42950b8e",
   "metadata": {},
   "outputs": [],
   "source": [
    "def transformar_sexo(valor):\n",
    "    if valor == 'female':\n",
    "        return 1\n",
    "    else:\n",
    "        return 0"
   ]
  },
  {
   "cell_type": "code",
   "execution_count": 46,
   "id": "f0a13ec9",
   "metadata": {},
   "outputs": [],
   "source": [
    "train = pd.read_csv(\"train.csv\")\n",
    "test = pd.read_csv(\"test.csv\")\n",
    "\n",
    "train['Sex_binario'] = train['Sex'].map(transformar_sexo)\n",
    "test['Sex_binario'] = test['Sex'].map(transformar_sexo)\n",
    "\n",
    "variaveis = ['Sex_binario', 'Age']\n",
    "\n",
    "X = train[variaveis].fillna(-1)\n",
    "y = train['Survived']"
   ]
  },
  {
   "cell_type": "code",
   "execution_count": 47,
   "id": "7fd53d7e",
   "metadata": {},
   "outputs": [],
   "source": [
    "from sklearn.ensemble import RandomForestClassifier\n",
    "from sklearn.model_selection import train_test_split"
   ]
  },
  {
   "cell_type": "code",
   "execution_count": 48,
   "id": "0802abac",
   "metadata": {},
   "outputs": [],
   "source": [
    "X_falso = np.arange(10)"
   ]
  },
  {
   "cell_type": "code",
   "execution_count": 49,
   "id": "5effaff8",
   "metadata": {},
   "outputs": [],
   "source": [
    "np.random.seed(1)\n",
    "X_treino, X_valid, y_treino, y_valid = train_test_split(X, y, test_size=0.5)"
   ]
  },
  {
   "cell_type": "code",
   "execution_count": 50,
   "id": "92a5134f",
   "metadata": {},
   "outputs": [
    {
     "data": {
      "text/plain": [
       "RandomForestClassifier(n_jobs=-1, random_state=0)"
      ]
     },
     "execution_count": 50,
     "metadata": {},
     "output_type": "execute_result"
    }
   ],
   "source": [
    "modelo = RandomForestClassifier(n_estimators=100, n_jobs=-1, random_state=0)\n",
    "modelo.fit(X_treino, y_treino)"
   ]
  },
  {
   "cell_type": "code",
   "execution_count": 51,
   "id": "674d84f7",
   "metadata": {},
   "outputs": [],
   "source": [
    "p = modelo.predict(X_valid)"
   ]
  },
  {
   "cell_type": "code",
   "execution_count": 52,
   "id": "d0161376",
   "metadata": {},
   "outputs": [
    {
     "data": {
      "text/plain": [
       "0.7466367713004485"
      ]
     },
     "execution_count": 52,
     "metadata": {},
     "output_type": "execute_result"
    }
   ],
   "source": [
    "np.mean(y_valid == p)"
   ]
  },
  {
   "cell_type": "code",
   "execution_count": 53,
   "id": "f7a2466e",
   "metadata": {},
   "outputs": [
    {
     "data": {
      "text/plain": [
       "0.7623318385650224"
      ]
     },
     "execution_count": 53,
     "metadata": {},
     "output_type": "execute_result"
    }
   ],
   "source": [
    "p = (X_valid['Sex_binario'] == 1).astype(np.int64)\n",
    "np.mean(y_valid == p)"
   ]
  },
  {
   "cell_type": "code",
   "execution_count": 54,
   "id": "53386159",
   "metadata": {},
   "outputs": [
    {
     "data": {
      "text/plain": [
       "array([0, 1, 2, 3, 4, 5, 6, 7, 8, 9])"
      ]
     },
     "execution_count": 54,
     "metadata": {},
     "output_type": "execute_result"
    }
   ],
   "source": [
    "#####\n",
    "X_falso"
   ]
  },
  {
   "cell_type": "code",
   "execution_count": 55,
   "id": "5b2653e6",
   "metadata": {},
   "outputs": [],
   "source": [
    "from sklearn.model_selection import KFold"
   ]
  },
  {
   "cell_type": "code",
   "execution_count": 56,
   "id": "fe6f6a34",
   "metadata": {},
   "outputs": [],
   "source": [
    "# Kfold é uma função que retorna índices das linhas de cada divisão que vamos treinar e testar"
   ]
  },
  {
   "cell_type": "code",
   "execution_count": 57,
   "id": "59d5ec14",
   "metadata": {},
   "outputs": [
    {
     "name": "stdout",
     "output_type": "stream",
     "text": [
      "Treino: [0 1 3 5 6 7]\n",
      "Valid: [2 4 8 9]\n",
      "\n",
      "Treino: [0 2 3 4 5 8 9]\n",
      "Valid: [1 6 7]\n",
      "\n",
      "Treino: [1 2 4 6 7 8 9]\n",
      "Valid: [0 3 5]\n",
      "\n"
     ]
    }
   ],
   "source": [
    "# shuffle porque queremos aleatoriedade \n",
    "kf = KFold(3, shuffle=True, random_state=0)\n",
    "\n",
    "# Em cada divisão vai dizer quais são as linhas de treino e quais são as linhas de validação\n",
    "for linhas_treino, linhas_valid in kf.split(X_falso):\n",
    "    print(\"Treino:\", linhas_treino)\n",
    "    print(\"Valid:\", linhas_valid)\n",
    "    print()"
   ]
  },
  {
   "cell_type": "code",
   "execution_count": 60,
   "id": "f3d989c5",
   "metadata": {},
   "outputs": [
    {
     "name": "stdout",
     "output_type": "stream",
     "text": [
      "Treino: 594\n",
      "Valid: 297\n",
      "Acc: 0.7609427609427609\n",
      "\n",
      "Treino: 594\n",
      "Valid: 297\n",
      "Acc: 0.7845117845117845\n",
      "\n",
      "Treino: 594\n",
      "Valid: 297\n",
      "Acc: 0.7643097643097643\n",
      "\n"
     ]
    }
   ],
   "source": [
    "kf = KFold(3, shuffle=True, random_state=0)\n",
    "resultados = []\n",
    "\n",
    "for linhas_treino, linhas_valid in kf.split(X):\n",
    "    print(\"Treino:\", linhas_treino.shape[0])\n",
    "    print(\"Valid:\", linhas_valid.shape[0])\n",
    "\n",
    "    # Pega essas linhas e cria um novo dataframe\n",
    "    X_treino, X_valid = X.iloc[linhas_treino], X.iloc[linhas_valid]\n",
    "    #print(X_treino.head())\n",
    "    #print()\n",
    "    y_treino, y_valid = y.iloc[linhas_treino], y.iloc[linhas_valid]\n",
    "\n",
    "    modelo = RandomForestClassifier(n_estimators=100, n_jobs=-1, random_state=0)\n",
    "    modelo.fit(X_treino, y_treino)\n",
    "    p = modelo.predict(X_valid)\n",
    "    \n",
    "    # Criando lista de acurácia\n",
    "    acc = np.mean(y_valid == p)\n",
    "    resultados.append(acc)\n",
    "    print(\"Acc:\", acc)\n",
    "    print()"
   ]
  },
  {
   "cell_type": "code",
   "execution_count": 61,
   "id": "813354a3",
   "metadata": {},
   "outputs": [
    {
     "data": {
      "text/plain": [
       "0.7699214365881032"
      ]
     },
     "execution_count": 61,
     "metadata": {},
     "output_type": "execute_result"
    }
   ],
   "source": [
    "np.mean(resultados)"
   ]
  },
  {
   "cell_type": "code",
   "execution_count": 62,
   "id": "dd780035",
   "metadata": {},
   "outputs": [],
   "source": [
    "# Podemos aumentar o número de folds em kf para 10, porém a acurácia varia muito. Se diminuirmos, ela varia menos\n",
    "# Outra possibilidade é mudar a random_state "
   ]
  },
  {
   "cell_type": "code",
   "execution_count": 69,
   "id": "4c474cb9",
   "metadata": {},
   "outputs": [
    {
     "name": "stdout",
     "output_type": "stream",
     "text": [
      "Rep: 0\n",
      "Treino: 445\n",
      "Valid: 446\n",
      "Acc: 0.7713004484304933\n",
      "\n",
      "Treino: 446\n",
      "Valid: 445\n",
      "Acc: 0.7797752808988764\n",
      "\n",
      "Rep: 1\n",
      "Treino: 445\n",
      "Valid: 446\n",
      "Acc: 0.7443946188340808\n",
      "\n",
      "Treino: 446\n",
      "Valid: 445\n",
      "Acc: 0.7955056179775281\n",
      "\n",
      "Rep: 2\n",
      "Treino: 445\n",
      "Valid: 446\n",
      "Acc: 0.7757847533632287\n",
      "\n",
      "Treino: 446\n",
      "Valid: 445\n",
      "Acc: 0.7887640449438202\n",
      "\n",
      "Rep: 3\n",
      "Treino: 445\n",
      "Valid: 446\n",
      "Acc: 0.7533632286995515\n",
      "\n",
      "Treino: 446\n",
      "Valid: 445\n",
      "Acc: 0.7573033707865169\n",
      "\n",
      "Rep: 4\n",
      "Treino: 445\n",
      "Valid: 446\n",
      "Acc: 0.7354260089686099\n",
      "\n",
      "Treino: 446\n",
      "Valid: 445\n",
      "Acc: 0.7415730337078652\n",
      "\n",
      "Rep: 5\n",
      "Treino: 445\n",
      "Valid: 446\n",
      "Acc: 0.7219730941704036\n",
      "\n",
      "Treino: 446\n",
      "Valid: 445\n",
      "Acc: 0.7056179775280899\n",
      "\n",
      "Rep: 6\n",
      "Treino: 445\n",
      "Valid: 446\n",
      "Acc: 0.7757847533632287\n",
      "\n",
      "Treino: 446\n",
      "Valid: 445\n",
      "Acc: 0.7303370786516854\n",
      "\n",
      "Rep: 7\n",
      "Treino: 445\n",
      "Valid: 446\n",
      "Acc: 0.7040358744394619\n",
      "\n",
      "Treino: 446\n",
      "Valid: 445\n",
      "Acc: 0.7348314606741573\n",
      "\n",
      "Rep: 8\n",
      "Treino: 445\n",
      "Valid: 446\n",
      "Acc: 0.7488789237668162\n",
      "\n",
      "Treino: 446\n",
      "Valid: 445\n",
      "Acc: 0.7887640449438202\n",
      "\n",
      "Rep: 9\n",
      "Treino: 445\n",
      "Valid: 446\n",
      "Acc: 0.7623318385650224\n",
      "\n",
      "Treino: 446\n",
      "Valid: 445\n",
      "Acc: 0.7842696629213484\n",
      "\n"
     ]
    }
   ],
   "source": [
    "resultados = []\n",
    "for rep in range(10):\n",
    "    print(\"Rep:\", rep)\n",
    "    kf = KFold(2, shuffle=True, random_state=rep)\n",
    "    \n",
    "    for linhas_treino, linhas_valid in kf.split(X):\n",
    "        print(\"Treino:\", linhas_treino.shape[0])\n",
    "        print(\"Valid:\", linhas_valid.shape[0])\n",
    "\n",
    "        X_treino, X_valid = X.iloc[linhas_treino], X.iloc[linhas_valid]\n",
    "        y_treino, y_valid = y.iloc[linhas_treino], y.iloc[linhas_valid]\n",
    "\n",
    "        modelo = RandomForestClassifier(n_estimators=100, n_jobs=-1, random_state=0)\n",
    "        modelo.fit(X_treino, y_treino)\n",
    "\n",
    "        p = modelo.predict(X_valid)\n",
    "\n",
    "        acc = np.mean(y_valid == p)\n",
    "        resultados.append(acc)\n",
    "        print(\"Acc:\", acc)\n",
    "        print()"
   ]
  },
  {
   "cell_type": "code",
   "execution_count": 70,
   "id": "55e926b0",
   "metadata": {},
   "outputs": [
    {
     "data": {
      "text/plain": [
       "0.7550007557817302"
      ]
     },
     "execution_count": 70,
     "metadata": {},
     "output_type": "execute_result"
    }
   ],
   "source": [
    "np.mean(resultados)"
   ]
  }
 ],
 "metadata": {
  "kernelspec": {
   "display_name": "Python 3",
   "language": "python",
   "name": "python3"
  },
  "language_info": {
   "codemirror_mode": {
    "name": "ipython",
    "version": 3
   },
   "file_extension": ".py",
   "mimetype": "text/x-python",
   "name": "python",
   "nbconvert_exporter": "python",
   "pygments_lexer": "ipython3",
   "version": "3.8.8"
  }
 },
 "nbformat": 4,
 "nbformat_minor": 5
}
